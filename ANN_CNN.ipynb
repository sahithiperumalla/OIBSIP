{
  "nbformat": 4,
  "nbformat_minor": 0,
  "metadata": {
    "colab": {
      "provenance": [],
      "include_colab_link": true
    },
    "kernelspec": {
      "name": "python3",
      "display_name": "Python 3"
    },
    "language_info": {
      "name": "python"
    }
  },
  "cells": [
    {
      "cell_type": "markdown",
      "metadata": {
        "id": "view-in-github",
        "colab_type": "text"
      },
      "source": [
        "<a href=\"https://colab.research.google.com/github/sahithiperumalla/OIBSIP/blob/main/ANN_CNN.ipynb\" target=\"_parent\"><img src=\"https://colab.research.google.com/assets/colab-badge.svg\" alt=\"Open In Colab\"/></a>"
      ]
    },
    {
      "cell_type": "code",
      "execution_count": null,
      "metadata": {
        "id": "KYHLVZUs0Hd7"
      },
      "outputs": [],
      "source": [
        "import tensorflow as tf\n",
        "from tensorflow.keras import datasets,layers,models\n",
        "import matplotlib.pyplot as plt\n",
        "import numpy as np"
      ]
    },
    {
      "cell_type": "code",
      "source": [
        "(x_train,y_train),(x_test,y_test)=datasets.cifar10.load_data()"
      ],
      "metadata": {
        "colab": {
          "base_uri": "https://localhost:8080/"
        },
        "id": "1EdsbNxd2MD_",
        "outputId": "8f2e1866-9589-473d-a17e-6b547f603675"
      },
      "execution_count": null,
      "outputs": [
        {
          "output_type": "stream",
          "name": "stdout",
          "text": [
            "Downloading data from https://www.cs.toronto.edu/~kriz/cifar-10-python.tar.gz\n",
            "170498071/170498071 [==============================] - 2s 0us/step\n"
          ]
        }
      ]
    },
    {
      "cell_type": "code",
      "source": [
        "x_train.shape"
      ],
      "metadata": {
        "colab": {
          "base_uri": "https://localhost:8080/"
        },
        "id": "f9KRYImv2iQY",
        "outputId": "4addcc1d-3cdd-4c0c-b053-75e308addff9"
      },
      "execution_count": null,
      "outputs": [
        {
          "output_type": "execute_result",
          "data": {
            "text/plain": [
              "(50000, 32, 32, 3)"
            ]
          },
          "metadata": {},
          "execution_count": 3
        }
      ]
    },
    {
      "cell_type": "code",
      "source": [
        "x_test.shape"
      ],
      "metadata": {
        "colab": {
          "base_uri": "https://localhost:8080/"
        },
        "id": "g19Bv_1Z2vH4",
        "outputId": "4a44f426-edbd-464d-a687-0d6c8a3f82f6"
      },
      "execution_count": null,
      "outputs": [
        {
          "output_type": "execute_result",
          "data": {
            "text/plain": [
              "(10000, 32, 32, 3)"
            ]
          },
          "metadata": {},
          "execution_count": 4
        }
      ]
    },
    {
      "cell_type": "code",
      "source": [
        "y_train.shape"
      ],
      "metadata": {
        "colab": {
          "base_uri": "https://localhost:8080/"
        },
        "id": "w3cwHuqF21ZX",
        "outputId": "4badc24a-e989-4876-b016-3bf794df13ff"
      },
      "execution_count": null,
      "outputs": [
        {
          "output_type": "execute_result",
          "data": {
            "text/plain": [
              "(50000, 1)"
            ]
          },
          "metadata": {},
          "execution_count": 5
        }
      ]
    },
    {
      "cell_type": "code",
      "source": [
        "y_train[:50]"
      ],
      "metadata": {
        "colab": {
          "base_uri": "https://localhost:8080/"
        },
        "id": "pfyz3hPu27wv",
        "outputId": "14a4048f-f53a-4c06-8b81-616e071182c5"
      },
      "execution_count": null,
      "outputs": [
        {
          "output_type": "execute_result",
          "data": {
            "text/plain": [
              "array([[6],\n",
              "       [9],\n",
              "       [9],\n",
              "       [4],\n",
              "       [1],\n",
              "       [1],\n",
              "       [2],\n",
              "       [7],\n",
              "       [8],\n",
              "       [3],\n",
              "       [4],\n",
              "       [7],\n",
              "       [7],\n",
              "       [2],\n",
              "       [9],\n",
              "       [9],\n",
              "       [9],\n",
              "       [3],\n",
              "       [2],\n",
              "       [6],\n",
              "       [4],\n",
              "       [3],\n",
              "       [6],\n",
              "       [6],\n",
              "       [2],\n",
              "       [6],\n",
              "       [3],\n",
              "       [5],\n",
              "       [4],\n",
              "       [0],\n",
              "       [0],\n",
              "       [9],\n",
              "       [1],\n",
              "       [3],\n",
              "       [4],\n",
              "       [0],\n",
              "       [3],\n",
              "       [7],\n",
              "       [3],\n",
              "       [3],\n",
              "       [5],\n",
              "       [2],\n",
              "       [2],\n",
              "       [7],\n",
              "       [1],\n",
              "       [1],\n",
              "       [1],\n",
              "       [2],\n",
              "       [2],\n",
              "       [0]], dtype=uint8)"
            ]
          },
          "metadata": {},
          "execution_count": 6
        }
      ]
    },
    {
      "cell_type": "code",
      "source": [
        "classes=[\"airplane\",\"automobile\",\"bird\",\"cat\",\"deer\",\"dog\",\"frog\",\"horse\",\"ship\",\"truck\"]\n",
        "def plot_sample(x,y,index):\n",
        "  plt.figure(figsize=(15,0.3))\n",
        "  plt.imshow(x[index])\n",
        "  plt.xlabel(classes[y[index]])"
      ],
      "metadata": {
        "id": "BcjlzCxp3H-H"
      },
      "execution_count": null,
      "outputs": []
    },
    {
      "cell_type": "code",
      "source": [
        "y_train=y_train.reshape(-1,)\n",
        "y_test=y_test.reshape(-1,)"
      ],
      "metadata": {
        "id": "a4BRwXwZ6Bix"
      },
      "execution_count": null,
      "outputs": []
    },
    {
      "cell_type": "code",
      "source": [
        "plot_sample(x_train,y_train,0)"
      ],
      "metadata": {
        "colab": {
          "base_uri": "https://localhost:8080/",
          "height": 108
        },
        "id": "rc1Lxawq5H-_",
        "outputId": "802db45f-e709-4714-e178-240310dc47de"
      },
      "execution_count": null,
      "outputs": [
        {
          "output_type": "display_data",
          "data": {
            "text/plain": [
              "<Figure size 1500x30 with 1 Axes>"
            ],
            "image/png": "[encoded data removed]"
          },
          "metadata": {}
        }
      ]
    },
    {
      "cell_type": "markdown",
      "source": [
        "Normalising the trainig data\n"
      ],
      "metadata": {
        "id": "43i8PVTb8y3X"
      }
    },
    {
      "cell_type": "code",
      "source": [
        "x_train=x_train/255.0"
      ],
      "metadata": {
        "id": "zMIswRBy8jMf"
      },
      "execution_count": null,
      "outputs": []
    },
    {
      "cell_type": "code",
      "source": [
        "x_test=x_test/255.0"
      ],
      "metadata": {
        "id": "f-zc1Qxj9Bsv"
      },
      "execution_count": null,
      "outputs": []
    },
    {
      "cell_type": "markdown",
      "source": [
        "Specifying ANN model"
      ],
      "metadata": {
        "id": "E9AOqaNh9Fle"
      }
    },
    {
      "cell_type": "code",
      "source": [
        "ANN=models.Sequential([layers.Flatten(input_shape=(32,32,3)),\n",
        "                       layers.Dense(3000,activation='relu'),\n",
        "                       layers.Dense(1000,activation='relu'),\n",
        "                       layers.Dense(10,activation='softmax')])"
      ],
      "metadata": {
        "id": "eI4mxQQ69EeO"
      },
      "execution_count": null,
      "outputs": []
    },
    {
      "cell_type": "code",
      "source": [
        "ANN.compile(optimizer='SGD',loss='sparse_categorical_crossentropy',metrics=['accuracy'])\n",
        "ANN.fit(x_train,y_train,epochs=5)"
      ],
      "metadata": {
        "colab": {
          "base_uri": "https://localhost:8080/"
        },
        "id": "An8n0YX0B8yX",
        "outputId": "47db2a83-bef4-4cd1-b70b-249536218fb0"
      },
      "execution_count": null,
      "outputs": [
        {
          "output_type": "stream",
          "name": "stdout",
          "text": [
            "Epoch 1/5\n",
            "1563/1563 [==============================] - 181s 116ms/step - loss: 1.8089 - accuracy: 0.3550\n",
            "Epoch 2/5\n",
            "1563/1563 [==============================] - 177s 113ms/step - loss: 1.6239 - accuracy: 0.4254\n",
            "Epoch 3/5\n",
            "1563/1563 [==============================] - 174s 112ms/step - loss: 1.5422 - accuracy: 0.4557\n",
            "Epoch 4/5\n",
            "1563/1563 [==============================] - 175s 112ms/step - loss: 1.4820 - accuracy: 0.4784\n",
            "Epoch 5/5\n",
            "1563/1563 [==============================] - 175s 112ms/step - loss: 1.4335 - accuracy: 0.4971\n"
          ]
        },
        {
          "output_type": "execute_result",
          "data": {
            "text/plain": [
              "<keras.callbacks.History at 0x7f2aae0eb190>"
            ]
          },
          "metadata": {},
          "execution_count": 13
        }
      ]
    },
    {
      "cell_type": "code",
      "source": [
        "from sklearn.metrics import confusion_matrix,classification_report\n",
        "y_predict=ANN.predict(x_test)\n",
        "y_predict_classes=[np.argmax(element)for element in y_predict]\n",
        "print(\"classificationreport\",classification_report(y_test,y_predict_classes))"
      ],
      "metadata": {
        "colab": {
          "base_uri": "https://localhost:8080/",
          "height": 227
        },
        "id": "coTPj95cFN5n",
        "outputId": "89323288-e37c-4d6d-b62a-be0232df2aa6"
      },
      "execution_count": null,
      "outputs": [
        {
          "output_type": "error",
          "ename": "NameError",
          "evalue": "ignored",
          "traceback": [
            "\u001b[0;31m---------------------------------------------------------------------------\u001b[0m",
            "\u001b[0;31mNameError\u001b[0m                                 Traceback (most recent call last)",
            "\u001b[0;32m<ipython-input-1-946f33a7ed67>\u001b[0m in \u001b[0;36m<cell line: 2>\u001b[0;34m()\u001b[0m\n\u001b[1;32m      1\u001b[0m \u001b[0;32mfrom\u001b[0m \u001b[0msklearn\u001b[0m\u001b[0;34m.\u001b[0m\u001b[0mmetrics\u001b[0m \u001b[0;32mimport\u001b[0m \u001b[0mconfusion_matrix\u001b[0m\u001b[0;34m,\u001b[0m\u001b[0mclassification_report\u001b[0m\u001b[0;34m\u001b[0m\u001b[0;34m\u001b[0m\u001b[0m\n\u001b[0;32m----> 2\u001b[0;31m \u001b[0my_predict\u001b[0m\u001b[0;34m=\u001b[0m\u001b[0mANN\u001b[0m\u001b[0;34m.\u001b[0m\u001b[0mpredict\u001b[0m\u001b[0;34m(\u001b[0m\u001b[0mx_test\u001b[0m\u001b[0;34m)\u001b[0m\u001b[0;34m\u001b[0m\u001b[0;34m\u001b[0m\u001b[0m\n\u001b[0m\u001b[1;32m      3\u001b[0m \u001b[0my_predict_classes\u001b[0m\u001b[0;34m=\u001b[0m\u001b[0;34m[\u001b[0m\u001b[0mnp\u001b[0m\u001b[0;34m.\u001b[0m\u001b[0margmax\u001b[0m\u001b[0;34m(\u001b[0m\u001b[0melement\u001b[0m\u001b[0;34m)\u001b[0m\u001b[0;32mfor\u001b[0m \u001b[0melement\u001b[0m \u001b[0;32min\u001b[0m \u001b[0my_predict\u001b[0m\u001b[0;34m]\u001b[0m\u001b[0;34m\u001b[0m\u001b[0;34m\u001b[0m\u001b[0m\n\u001b[1;32m      4\u001b[0m \u001b[0mprint\u001b[0m\u001b[0;34m(\u001b[0m\u001b[0;34m\"classificationreport\"\u001b[0m\u001b[0;34m,\u001b[0m\u001b[0mclassification_report\u001b[0m\u001b[0;34m(\u001b[0m\u001b[0my_test\u001b[0m\u001b[0;34m,\u001b[0m\u001b[0my_predict_classes\u001b[0m\u001b[0;34m)\u001b[0m\u001b[0;34m)\u001b[0m\u001b[0;34m\u001b[0m\u001b[0;34m\u001b[0m\u001b[0m\n",
            "\u001b[0;31mNameError\u001b[0m: name 'ANN' is not defined"
          ]
        }
      ]
    },
    {
      "cell_type": "code",
      "source": [],
      "metadata": {
        "id": "2iHzt4qLHF13"
      },
      "execution_count": null,
      "outputs": []
    }
  ]
}